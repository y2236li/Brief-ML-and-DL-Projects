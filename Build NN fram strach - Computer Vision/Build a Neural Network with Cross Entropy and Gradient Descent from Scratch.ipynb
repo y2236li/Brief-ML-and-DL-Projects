{
 "cells": [
  {
   "cell_type": "markdown",
   "metadata": {},
   "source": [
    "# Program Summary\n",
    "The program is building a simple Neural Network without any deep learning package\n",
    "\n",
    "___\n",
    "> 1. Include a dummuy variable value of which is one throughout all sample points so that we can get intercept value\n",
    "> 2. Assign random weight to each of the variables and make prediction using dot product of the random weight and variable values\n",
    "> 3. Using a cost function (cross entropy for example) to compute the loss of the target observations.\n",
    "> 4. Calculate the derivatives of the cost function with respect to the weight and the bias\n",
    "> 5. Update the weight and bias by mutiplying the weight and bias derivatives with learning rate\n",
    "> 6. Iterate step 4 and 5 until the change in weights is insignificant \n",
    "\n",
    "Tutorial Link: https://towardsdatascience.com/step-by-step-guide-to-building-your-own-neural-network-from-scratch-df64b1c5ab6e"
   ]
  },
  {
   "cell_type": "markdown",
   "metadata": {},
   "source": [
    "## Libraries"
   ]
  },
  {
   "cell_type": "code",
   "execution_count": 1,
   "metadata": {},
   "outputs": [],
   "source": [
    "import numpy as np\n",
    "import matplotlib.pyplot as plt\n",
    "import h5py"
   ]
  },
  {
   "cell_type": "markdown",
   "metadata": {},
   "source": [
    "## Load Data"
   ]
  },
  {
   "cell_type": "code",
   "execution_count": 30,
   "metadata": {},
   "outputs": [
    {
     "name": "stdout",
     "output_type": "stream",
     "text": [
      "cat\n"
     ]
    },
    {
     "data": {
      "image/png": "[encoded data removed]",
      "text/plain": [
       "<Figure size 432x288 with 1 Axes>"
      ]
     },
     "metadata": {
      "needs_background": "light"
     },
     "output_type": "display_data"
    }
   ],
   "source": [
    "def load_dataset():\n",
    "    train_dataset = h5py.File('Desktop/datasets/train_catvnoncat.h5', \"r\")\n",
    "    train_set_x_orig = np.array(train_dataset[\"train_set_x\"][:]) # your train set features\n",
    "    train_set_y_orig = np.array(train_dataset[\"train_set_y\"][:]) # your train set labels\n",
    "\n",
    "    test_dataset = h5py.File('Desktop/datasets/test_catvnoncat.h5', \"r\")\n",
    "    test_set_x_orig = np.array(test_dataset[\"test_set_x\"][:]) # your test set features\n",
    "    test_set_y_orig = np.array(test_dataset[\"test_set_y\"][:]) # your test set labels\n",
    "\n",
    "    classes = np.array(test_dataset[\"list_classes\"][:]) # the list of classes\n",
    "    \n",
    "    train_set_y_orig = train_set_y_orig.reshape((1, train_set_y_orig.shape[0]))\n",
    "    test_set_y_orig = test_set_y_orig.reshape((1, test_set_y_orig.shape[0]))\n",
    "    \n",
    "    return train_set_x_orig, train_set_y_orig, test_set_x_orig, test_set_y_orig, classes\n",
    "\n",
    "train_set_x_orig, train_set_y, test_set_x_orig, test_set_y, classes = load_dataset()\n",
    "plt.imshow(train_set_x_orig[2])\n",
    "print(classes[np.squeeze(train_set_y[:,25])].decode('utf-8'))"
   ]
  },
  {
   "cell_type": "markdown",
   "metadata": {},
   "source": [
    "## Flatten and Scale Data"
   ]
  },
  {
   "cell_type": "code",
   "execution_count": 6,
   "metadata": {},
   "outputs": [],
   "source": [
    "train_set_x_flatten = train_set_x_orig.reshape(train_set_x_orig.shape[0], -1).T\n",
    "test_set_x_flatten = test_set_x_orig.reshape(test_set_x_orig.shape[0], -1).T\n",
    "train_set_x = train_set_x_flatten/255\n",
    "test_set_x = test_set_x_flatten/255"
   ]
  },
  {
   "cell_type": "markdown",
   "metadata": {},
   "source": [
    "## Initialize to Zeros"
   ]
  },
  {
   "cell_type": "code",
   "execution_count": 36,
   "metadata": {},
   "outputs": [],
   "source": [
    "def initialize_with_zeros(dim):\n",
    "    w = np.zeros(shape = (dim, 1))\n",
    "    b = 0\n",
    "    \n",
    "    return w, b"
   ]
  },
  {
   "cell_type": "markdown",
   "metadata": {},
   "source": [
    "## Activation Function - Sigmoid"
   ]
  },
  {
   "cell_type": "code",
   "execution_count": 40,
   "metadata": {},
   "outputs": [],
   "source": [
    "def sigmoid(z):\n",
    "    s = 1/(1+np.exp(-z))\n",
    "    return s"
   ]
  },
  {
   "cell_type": "markdown",
   "metadata": {},
   "source": [
    "## Forward and Backword Propagation\n",
    "> - Cost function: Cross Entropy\n",
    "> - Optimizer: Gradient Descent"
   ]
  },
  {
   "cell_type": "code",
   "execution_count": 49,
   "metadata": {},
   "outputs": [],
   "source": [
    "def propagate(w, b, X, Y):\n",
    "    #w: weight in transaction\n",
    "    #b: bias\n",
    "    #X: inputs\n",
    "    #Y: obvervations\n",
    "    m = X.shape[1]\n",
    "    \n",
    "    #Forward propagation\n",
    "    Y_pre = sigmoid(np.dot(w.T, X) + b)\n",
    "    cost = (-1/m) * np.sum(Y * np.log(Y_pre) + (1 - Y) * (np.log(1-Y_pre)))\n",
    "    \n",
    "    #Backward propagation\n",
    "    dw = (1/m) * np.dot(X, (Y_pre - Y).T)\n",
    "    db = (1/m) * np.sum(Y-Y_pre)\n",
    "    \n",
    "    assert(dw.shape == w.shape) #the number of Y_pre == number of X\n",
    "    assert(db.dtype == float)\n",
    "    cost = np.squeeze(cost)\n",
    "    assert(cost.shape == ())\n",
    "    \n",
    "    grads = {'dw': dw, 'db': db}\n",
    "    \n",
    "    return grads, cost"
   ]
  },
  {
   "cell_type": "markdown",
   "metadata": {},
   "source": [
    "## Optimer\n",
    "> - Optimizer: Gradient Descent"
   ]
  },
  {
   "cell_type": "code",
   "execution_count": 51,
   "metadata": {},
   "outputs": [],
   "source": [
    "def optimize(w, b, X, Y, num_iterations, learning_rate, print_cost  = False):\n",
    "    \n",
    "    costs = []\n",
    "    \n",
    "    \n",
    "    for i in range(num_iterations):\n",
    "\n",
    "        #Cost and gradient calculation\n",
    "        grads, cost = propagate(w, b, X, Y)\n",
    "        \n",
    "        #Get derivatives\n",
    "        dw = grads['dw']\n",
    "        db = grads['db']\n",
    "        \n",
    "        #Update rule\n",
    "        w = w - learning_rate * dw\n",
    "        b = b - learning_rate * db\n",
    "        \n",
    "        #Record costs\n",
    "        if i % 100 == 0:\n",
    "            costs.append(cost)\n",
    "            \n",
    "        #Print cost every 100 training examples\n",
    "        if print_cost and i % 100 == 0:\n",
    "            print ('Cost after iteration %i: %f' %(i, cost))\n",
    "            \n",
    "    params = {'w': w, 'b': b}\n",
    "    grads = {'dw': dw, 'db': db}\n",
    "    \n",
    "    return params, grads, costs"
   ]
  },
  {
   "cell_type": "code",
   "execution_count": 61,
   "metadata": {},
   "outputs": [],
   "source": [
    "def predict(w, b , X):\n",
    "    m = x.shape[1]\n",
    "    Y_prediction = np.zeros((1, m))\n",
    "    w = w.reshape(X.shape[0], 1)\n",
    "    \n",
    "    #Compute probability vector\n",
    "    A = sigmoid(np.dot(w.T, X) + b)\n",
    "    \n",
    "#     for i in range(A.shape[1]):\n",
    "#         Y_prediction[0, i] = 1 if A[0, i] > 0.5 else 0\n",
    "        \n",
    "    assert(Y_prediction.shape == (1, m))\n",
    "    \n",
    "    return [1 if x > 0.5 else 0 for x in A[0]]"
   ]
  },
  {
   "cell_type": "code",
   "execution_count": 62,
   "metadata": {},
   "outputs": [],
   "source": [
    "def model(X_train, Y_train, X_test, Y_test, num_iterations = 2000,\n",
    "         learning_rate = 0.5, print_cost = False):\n",
    "    #Initialize parameters with 0s\n",
    "    w, b = initialize_with_zeros(X_train.shape[0])\n",
    "    \n",
    "    #Gradient descent\n",
    "    parameters, grads, costs = optimize(w, b, X_train, Y_train,\n",
    "                                        num_iterations, learning_rate, print_cost)\n",
    "    \n",
    "    #Retrive parameters w, b from dictionary\n",
    "    w = parameters['w']\n",
    "    b = parameters['b']\n",
    "    \n",
    "    #Predict test/train set examples\n",
    "    Y_prediction_test = predict(w, b, X_test)\n",
    "    Y_prediction_train = predict(w, b, X_train)\n",
    "    \n",
    "    #Print test/train errors\n",
    "    print(\"train accuracy: {} %\".format(100 - np.mean(np.abs(Y_prediction_train - \n",
    "                                                            Y_train))*100))\n",
    "    print(\"test accuracy: {}%\".format(100 - np.mean(np.abs(Y_prediction_test - Y_test))*100))\n",
    "    \n",
    "    d = {'costs': costs, 'Y_prediction_test': Y_prediction_test,\n",
    "         'Y_prediction_train': Y_prediction_train, 'w': w, 'b': b,\n",
    "         'learning_rate': learning_rate, 'num_iterations': num_iterations}\n",
    "    \n",
    "    return d\n"
   ]
  },
  {
   "cell_type": "code",
   "execution_count": 81,
   "metadata": {
    "scrolled": true
   },
   "outputs": [
    {
     "name": "stdout",
     "output_type": "stream",
     "text": [
      "Cost after iteration 0: 0.693147\n",
      "Cost after iteration 100: 0.649397\n",
      "Cost after iteration 200: 0.537763\n",
      "Cost after iteration 300: 0.438676\n",
      "Cost after iteration 400: 0.349287\n",
      "Cost after iteration 500: 0.278268\n",
      "Cost after iteration 600: 0.249822\n",
      "Cost after iteration 700: 0.231222\n",
      "Cost after iteration 800: 0.215261\n",
      "Cost after iteration 900: 0.201361\n",
      "Cost after iteration 1000: 0.189125\n",
      "Cost after iteration 1100: 0.178259\n",
      "Cost after iteration 1200: 0.168539\n",
      "Cost after iteration 1300: 0.159791\n",
      "Cost after iteration 1400: 0.151875\n",
      "Cost after iteration 1500: 0.144676\n",
      "Cost after iteration 1600: 0.138103\n",
      "Cost after iteration 1700: 0.132077\n",
      "Cost after iteration 1800: 0.126534\n",
      "Cost after iteration 1900: 0.121419\n",
      "train accuracy: 99.52153110047847 %\n",
      "test accuracy: 68.0%\n"
     ]
    }
   ],
   "source": [
    "length = 100000\n",
    "d = model(train_set_x[:length], train_set_y[:length], test_set_x[:length], test_set_y[:length], num_iterations=2000,\n",
    "         learning_rate = 0.006, print_cost=True)"
   ]
  },
  {
   "cell_type": "code",
   "execution_count": 83,
   "metadata": {},
   "outputs": [
    {
     "data": {
      "image/png": "[encoded data removed]",
      "text/plain": [
       "<Figure size 432x288 with 1 Axes>"
      ]
     },
     "metadata": {
      "needs_background": "light"
     },
     "output_type": "display_data"
    }
   ],
   "source": [
    "plt.plot(d['costs'])\n",
    "plt.ylabel('cost')\n",
    "plt.xlabel('iterations (per hundreds)')\n",
    "plt.title(\"Learning rate = \" + str(d[\"learning_rate\"]))\n",
    "plt.show()"
   ]
  },
  {
   "cell_type": "code",
   "execution_count": null,
   "metadata": {},
   "outputs": [],
   "source": []
  },
  {
   "cell_type": "code",
   "execution_count": null,
   "metadata": {},
   "outputs": [],
   "source": []
  },
  {
   "cell_type": "code",
   "execution_count": null,
   "metadata": {},
   "outputs": [],
   "source": []
  }
 ],
 "metadata": {
  "kernelspec": {
   "display_name": "Python 3",
   "language": "python",
   "name": "python3"
  },
  "language_info": {
   "codemirror_mode": {
    "name": "ipython",
    "version": 3
   },
   "file_extension": ".py",
   "mimetype": "text/x-python",
   "name": "python",
   "nbconvert_exporter": "python",
   "pygments_lexer": "ipython3",
   "version": "3.7.3"
  }
 },
 "nbformat": 4,
 "nbformat_minor": 2
}
