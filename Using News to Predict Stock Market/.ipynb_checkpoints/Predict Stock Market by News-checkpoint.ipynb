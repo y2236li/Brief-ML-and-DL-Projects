{
 "cells": [
  {
   "cell_type": "markdown",
   "metadata": {},
   "source": [
    "## Libraries"
   ]
  },
  {
   "cell_type": "code",
   "execution_count": 49,
   "metadata": {},
   "outputs": [],
   "source": [
    "%matplotlib inline\n",
    "import pandas as pd\n",
    "import numpy as np\n",
    "import matplotlib.pyplot as plt\n",
    "from sklearn.model_selection import train_test_split, GridSearchCV\n",
    "from sklearn.feature_extraction.text import TfidfVectorizer\n",
    "from sklearn.linear_model import LogisticRegression\n",
    "from sklearn.metrics import accuracy_score"
   ]
  },
  {
   "cell_type": "markdown",
   "metadata": {},
   "source": [
    "## Raw Data"
   ]
  },
  {
   "cell_type": "code",
   "execution_count": 20,
   "metadata": {},
   "outputs": [],
   "source": [
    "path = \"data/\"\n",
    "DJIA_fn = \"DJIA_table.csv\"\n",
    "News_fn = \"Combined_News_DJIA.csv\"\n",
    "\n",
    "DJIA_df = pd.read_csv(path + DJIA_fn)\n",
    "DJIA_df = DJIA_df.sort_values(\"Date\")\n",
    "DJIA_df.index = range(len(DJIA_df))\n",
    "\n",
    "News_df = pd.read_csv(path + News_fn)\n",
    "News_df = News_df.sort_values(\"Date\")\n",
    "News_df.index = range(len(News_df))"
   ]
  },
  {
   "cell_type": "markdown",
   "metadata": {},
   "source": [
    "## General Trend"
   ]
  },
  {
   "cell_type": "code",
   "execution_count": 21,
   "metadata": {},
   "outputs": [
    {
     "data": {
      "image/png": "[encoded data removed]",
      "text/plain": [
       "<Figure size 432x288 with 1 Axes>"
      ]
     },
     "metadata": {
      "needs_background": "light"
     },
     "output_type": "display_data"
    }
   ],
   "source": [
    "DJIA_df[\"Adj Close\"].plot()\n",
    "plt.show()"
   ]
  },
  {
   "cell_type": "markdown",
   "metadata": {},
   "source": [
    "## Clean data in News_df"
   ]
  },
  {
   "cell_type": "code",
   "execution_count": 44,
   "metadata": {},
   "outputs": [],
   "source": [
    "def RemoveQuote(tmp_str):\n",
    "    s_quote = False\n",
    "    d_quote = False\n",
    "    start_list = []\n",
    "    end_list = []\n",
    "    mid_str = tmp_str[5:len(tmp_str)-5]\n",
    "    for i in range(5):\n",
    "        if (not s_quote) or (not d_quote):\n",
    "            try:\n",
    "                if tmp_str[i] != \"\\'\" and tmp_str[i] != \"\\\"\":\n",
    "                    if i <=2 and tmp_str[i] == 'b':\n",
    "                        continue\n",
    "                    start_list.append(tmp_str[i])\n",
    "                if tmp_str[-5+i] != \"'\" and tmp_str[-5+i] != '\"':\n",
    "                    end_list.append(tmp_str[-5+i])\n",
    "            except:\n",
    "                print(tmp_str)\n",
    "\n",
    "    tmp_str = \"\".join(start_list) + mid_str + \"\".join(end_list)\n",
    "    return tmp_str\n",
    "\n",
    "headline_columns = [x for x in News_df.columns if re.match(\"Top\", x)]\n",
    "for col in headline_columns:\n",
    "    News_df[col] = News_df[col].apply(lambda x: RemoveQuote(x) if x == x else x)\n",
    "Comb_df = DJIA_df.merge(News_df, on = \"Date\", how = \"inner\")"
   ]
  },
  {
   "cell_type": "markdown",
   "metadata": {},
   "source": [
    "## Make Training Data and Testing Data (8:2)"
   ]
  },
  {
   "cell_type": "code",
   "execution_count": 23,
   "metadata": {},
   "outputs": [],
   "source": [
    "train_index = pd.to_datetime(DJIA_df.Date, format = \"%Y-%m-%d\") < pd.to_datetime(\"2014-12-31\", format = \"%Y-%m-%d\")\n",
    "train_data = Comb_df[train_index]\n",
    "test_data = Comb_df[~train_index]"
   ]
  },
  {
   "cell_type": "markdown",
   "metadata": {},
   "source": [
    "## Joint Top Hottest Headlines and Tokenize and Vecterize Text into Metrix"
   ]
  },
  {
   "cell_type": "code",
   "execution_count": 85,
   "metadata": {},
   "outputs": [],
   "source": [
    "joint_headlines_train = train_data[headline_columns[0]]\n",
    "joint_headlines_test = test_data[headline_columns[0]]\n",
    "for i in range(1, len(headline_columns)):\n",
    "    joint_headlines_train += (' ' + train_data[headline_columns[i]].apply(lambda x: str(x) if x == x else \"\"))\n",
    "    joint_headlines_test += (' ' + test_data[headline_columns[i]].apply(lambda x: str(x) if x == x else \"\"))\n",
    "\n",
    "basicVetorizer = TfidfVectorizer(min_df=0.03, max_df=0.97, max_features = 200000, ngram_range = (3, 3))\n",
    "basic_train = basicVetorizer.fit_transform([x for x in joint_headlines_train.values if x == x])\n",
    "basic_test = basicVetorizer.transform([x for x in joint_headlines_test.values if x == x])"
   ]
  },
  {
   "cell_type": "markdown",
   "metadata": {},
   "source": [
    "## Fit by Logistic Regression\n",
    "> Find the best score by Grid Search on Penalty C"
   ]
  },
  {
   "cell_type": "code",
   "execution_count": 80,
   "metadata": {},
   "outputs": [
    {
     "name": "stderr",
     "output_type": "stream",
     "text": [
      "/anaconda3/lib/python3.7/site-packages/sklearn/linear_model/logistic.py:433: FutureWarning: Default solver will be changed to 'lbfgs' in 0.22. Specify a solver to silence this warning.\n",
      "  FutureWarning)\n",
      "/anaconda3/lib/python3.7/site-packages/sklearn/linear_model/logistic.py:433: FutureWarning: Default solver will be changed to 'lbfgs' in 0.22. Specify a solver to silence this warning.\n",
      "  FutureWarning)\n"
     ]
    },
    {
     "name": "stdout",
     "output_type": "stream",
     "text": [
      "Best Score =  0.5354449472096531\n"
     ]
    }
   ],
   "source": [
    "\n",
    "logistic_model = LogisticRegression()\n",
    "logistic_model = logistic_model.fit(basic_train, train_data.Label)\n",
    "\n",
    "\n",
    "gs = GridSearchCV(logistic_model, {'C': [0.001,0.01,0.1,1,10,100,1000]}, cv = 12, scoring='accuracy',)\n",
    "gs.fit(basicVetorizer.fit_transform([x for x in joint_headlines_train.append(joint_headlines_test).values if x == x]), Comb_df.Label.values)\n",
    "\n",
    "print(\"Best Score = \", gs.best_score_)"
   ]
  },
  {
   "cell_type": "markdown",
   "metadata": {},
   "source": [
    "**Comment**:\n",
    "> Logistic perform the best when C is around 0.001\n",
    "> The length of tokens does not really change the accuracy (tried 1-3 grams)"
   ]
  }
 ],
 "metadata": {
  "kernelspec": {
   "display_name": "Python 3",
   "language": "python",
   "name": "python3"
  },
  "language_info": {
   "codemirror_mode": {
    "name": "ipython",
    "version": 3
   },
   "file_extension": ".py",
   "mimetype": "text/x-python",
   "name": "python",
   "nbconvert_exporter": "python",
   "pygments_lexer": "ipython3",
   "version": "3.7.3"
  }
 },
 "nbformat": 4,
 "nbformat_minor": 2
}
