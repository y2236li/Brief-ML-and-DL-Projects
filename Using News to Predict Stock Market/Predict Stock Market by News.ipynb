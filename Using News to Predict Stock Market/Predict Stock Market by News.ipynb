{
 "cells": [
  {
   "cell_type": "markdown",
   "metadata": {},
   "source": [
    "# Agenda  <a name=\"backtotop\"></a>\n",
    "---\n",
    "\n",
    "1. [General Trend](#GT)\n",
    "2. [Fit By Logistic Regression](#LR)\n",
    "3. [Fit By Multinomial Naive Bayes](#MNB)\n",
    "4. [Fit By Random Forest](#RF)"
   ]
  },
  {
   "cell_type": "markdown",
   "metadata": {},
   "source": [
    "## Libraries"
   ]
  },
  {
   "cell_type": "code",
   "execution_count": 96,
   "metadata": {},
   "outputs": [],
   "source": [
    "%matplotlib inline\n",
    "import pandas as pd\n",
    "import numpy as np\n",
    "import matplotlib.pyplot as plt\n",
    "\n",
    "from sklearn.model_selection import train_test_split, GridSearchCV\n",
    "from sklearn.feature_extraction.text import TfidfVectorizer\n",
    "from sklearn.linear_model import LogisticRegression\n",
    "from sklearn.metrics import accuracy_score\n",
    "from sklearn.decomposition import TruncatedSVD\n",
    "from sklearn.naive_bayes import MultinomialNB\n",
    "from sklearn.ensemble import RandomForestClassifier\n",
    "\n",
    "import re\n",
    "from tqdm import tqdm"
   ]
  },
  {
   "cell_type": "markdown",
   "metadata": {},
   "source": [
    "## Raw Data"
   ]
  },
  {
   "cell_type": "code",
   "execution_count": 3,
   "metadata": {},
   "outputs": [],
   "source": [
    "path = \"data/\"\n",
    "DJIA_fn = \"DJIA_table.csv\"\n",
    "News_fn = \"Combined_News_DJIA.csv\"\n",
    "\n",
    "DJIA_df = pd.read_csv(path + DJIA_fn)\n",
    "DJIA_df = DJIA_df.sort_values(\"Date\")\n",
    "DJIA_df.index = range(len(DJIA_df))\n",
    "\n",
    "News_df = pd.read_csv(path + News_fn)\n",
    "News_df = News_df.sort_values(\"Date\")\n",
    "News_df.index = range(len(News_df))"
   ]
  },
  {
   "cell_type": "markdown",
   "metadata": {},
   "source": [
    "## General Trend <a name = \"GT\"></a>\n",
    "\n",
    "[Back to Top](#backtotop)"
   ]
  },
  {
   "cell_type": "code",
   "execution_count": 4,
   "metadata": {},
   "outputs": [
    {
     "data": {
      "image/png": "[encoded data removed]",
      "text/plain": [
       "<Figure size 432x288 with 1 Axes>"
      ]
     },
     "metadata": {
      "needs_background": "light"
     },
     "output_type": "display_data"
    }
   ],
   "source": [
    "DJIA_df[\"Adj Close\"].plot()\n",
    "plt.show()"
   ]
  },
  {
   "cell_type": "markdown",
   "metadata": {},
   "source": [
    "## Clean data in News_df"
   ]
  },
  {
   "cell_type": "code",
   "execution_count": 5,
   "metadata": {},
   "outputs": [],
   "source": [
    "def RemoveQuote(tmp_str):\n",
    "    s_quote = False\n",
    "    d_quote = False\n",
    "    start_list = []\n",
    "    end_list = []\n",
    "    mid_str = tmp_str[5:len(tmp_str)-5]\n",
    "    for i in range(5):\n",
    "        if (not s_quote) or (not d_quote):\n",
    "            try:\n",
    "                if tmp_str[i] != \"\\'\" and tmp_str[i] != \"\\\"\":\n",
    "                    if i <=2 and tmp_str[i] == 'b':\n",
    "                        continue\n",
    "                    start_list.append(tmp_str[i])\n",
    "                if tmp_str[-5+i] != \"'\" and tmp_str[-5+i] != '\"':\n",
    "                    end_list.append(tmp_str[-5+i])\n",
    "            except:\n",
    "                print(tmp_str)\n",
    "\n",
    "    tmp_str = \"\".join(start_list) + mid_str + \"\".join(end_list)\n",
    "    return tmp_str\n",
    "\n",
    "headline_columns = [x for x in News_df.columns if re.match(\"Top\", x)]\n",
    "for col in headline_columns:\n",
    "    News_df[col] = News_df[col].apply(lambda x: RemoveQuote(x) if x == x else x)\n",
    "Comb_df = DJIA_df.merge(News_df, on = \"Date\", how = \"inner\")"
   ]
  },
  {
   "cell_type": "markdown",
   "metadata": {},
   "source": [
    "## Make Training Data and Testing Data (8:2)"
   ]
  },
  {
   "cell_type": "code",
   "execution_count": 6,
   "metadata": {},
   "outputs": [],
   "source": [
    "train_index = pd.to_datetime(DJIA_df.Date, format = \"%Y-%m-%d\") < pd.to_datetime(\"2014-12-31\", format = \"%Y-%m-%d\")\n",
    "train_data = Comb_df[train_index]\n",
    "test_data = Comb_df[~train_index]"
   ]
  },
  {
   "cell_type": "markdown",
   "metadata": {},
   "source": [
    "## Joint Top Hottest Headlines and Tokenize and Vecterize Text into Metrix"
   ]
  },
  {
   "cell_type": "code",
   "execution_count": 29,
   "metadata": {},
   "outputs": [],
   "source": [
    "joint_headlines_train = train_data[headline_columns[0]]\n",
    "joint_headlines_test = test_data[headline_columns[0]]\n",
    "for i in range(1, len(headline_columns)):\n",
    "    joint_headlines_train += (' ' + train_data[headline_columns[i]].apply(lambda x: str(x) if x == x else \"\"))\n",
    "    joint_headlines_test += (' ' + test_data[headline_columns[i]].apply(lambda x: str(x) if x == x else \"\"))\n",
    "\n",
    "basicVetorizer = TfidfVectorizer(min_df=0.03, max_df=0.97, max_features = 200000, ngram_range = (2, 2))\n",
    "basic_train = basicVetorizer.fit_transform([x for x in joint_headlines_train.values if x == x])\n",
    "basic_test = basicVetorizer.transform([x for x in joint_headlines_test.values if x == x])\n",
    "basic_whole = basicVetorizer.fit_transform([x for x in joint_headlines_train.append(joint_headlines_test).values if x==x])"
   ]
  },
  {
   "cell_type": "markdown",
   "metadata": {},
   "source": [
    "# Fit by Logistic Regression <a name = \"LR\"></a>\n",
    "    \n",
    "[Back to Top](#backtotop)\n",
    "> Find the best score by Grid Search on Penalty C <br>\n",
    "> **Assumptions:** <br>\n",
    "> - The outcome is binary <br>\n",
    "> - The observations are independent to each other <br>\n",
    "> - Absence of multicollinearity <br>\n",
    "> - Linearity of independent variables and log odds <br>\n",
    "> - Large size of database <br>\n"
   ]
  },
  {
   "cell_type": "code",
   "execution_count": 12,
   "metadata": {},
   "outputs": [
    {
     "name": "stdout",
     "output_type": "stream",
     "text": [
      "Best Score =  0.5359477124183006\n"
     ]
    }
   ],
   "source": [
    "\n",
    "logistic_model = LogisticRegression(solver='lbfgs')\n",
    "# logistic_model = logistic_model.fit(basic_train, train_data.Label)\n",
    "\n",
    "\n",
    "gs = GridSearchCV(logistic_model, {'C': [0.001,0.01,0.1,1,10,100,1000]}, cv = 12, scoring='accuracy',)\n",
    "gs.fit(TruncatedSVD(n_components=10).fit_transform(basicVetorizer.fit_transform([x for x in joint_headlines_train.append(joint_headlines_test).values if x == x])), Comb_df.Label.values)\n",
    "\n",
    "print(\"Best Score = \", gs.best_score_)"
   ]
  },
  {
   "cell_type": "markdown",
   "metadata": {},
   "source": [
    "**Comment**:\n",
    "> Logistic perform the best when C is around 0.001\n",
    "> The length of tokens does not really change the accuracy (tried 1-3 grams)"
   ]
  },
  {
   "cell_type": "markdown",
   "metadata": {},
   "source": [
    "## Reduce Tfidf Dimension by TruncatedSVD (PCA does not adapt to sparse matrix)"
   ]
  },
  {
   "cell_type": "code",
   "execution_count": 13,
   "metadata": {
    "scrolled": true
   },
   "outputs": [],
   "source": [
    "from sklearn.decomposition import TruncatedSVD\n",
    "accuracy_list = []\n",
    "\n",
    "for num_compo in range(1, 632):\n",
    "    SVD_model = TruncatedSVD(n_components=num_compo)\n",
    "    basic_train_svd = SVD_model.fit_transform(basic_train)\n",
    "    basic_test_svd = SVD_model.transform(basic_test)\n",
    "    logistic_model = logistic_model.fit(basic_train_svd, train_data.Label)\n",
    "    accuracy_list.append(accuracy_score(logistic_model.predict(basic_test_svd), test_data.Label))"
   ]
  },
  {
   "cell_type": "code",
   "execution_count": 14,
   "metadata": {},
   "outputs": [
    {
     "data": {
      "image/png": "[encoded data removed]",
      "text/plain": [
       "<Figure size 432x288 with 1 Axes>"
      ]
     },
     "metadata": {
      "needs_background": "light"
     },
     "output_type": "display_data"
    }
   ],
   "source": [
    "plt.plot(range(1, 632), accuracy_list)\n",
    "plt.title(\"Logistic Regression Accuracy Agains Feature Numbers\")\n",
    "plt.show()"
   ]
  },
  {
   "cell_type": "markdown",
   "metadata": {},
   "source": [
    "**Comment:**\n",
    "> The graph shows the extraordinary features pottentially reduce the accruacy from 0.02-0.01 <br>\n",
    "> The most ideal accruacy was made at around 480 number of features <br>"
   ]
  },
  {
   "cell_type": "markdown",
   "metadata": {},
   "source": [
    "# Fit by Multinomial Naive Bayes <a name = \"MNB\"></a>\n",
    "\n",
    "[Back to Top](#backtotop)"
   ]
  },
  {
   "cell_type": "code",
   "execution_count": 64,
   "metadata": {},
   "outputs": [
    {
     "name": "stderr",
     "output_type": "stream",
     "text": [
      "/anaconda3/lib/python3.7/site-packages/sklearn/naive_bayes.py:480: UserWarning: alpha too small will result in numeric errors, setting alpha = 1.0e-10\n",
      "  'setting alpha = %.1e' % _ALPHA_MIN)\n",
      "/anaconda3/lib/python3.7/site-packages/sklearn/naive_bayes.py:480: UserWarning: alpha too small will result in numeric errors, setting alpha = 1.0e-10\n",
      "  'setting alpha = %.1e' % _ALPHA_MIN)\n",
      "/anaconda3/lib/python3.7/site-packages/sklearn/naive_bayes.py:480: UserWarning: alpha too small will result in numeric errors, setting alpha = 1.0e-10\n",
      "  'setting alpha = %.1e' % _ALPHA_MIN)\n",
      "/anaconda3/lib/python3.7/site-packages/sklearn/naive_bayes.py:480: UserWarning: alpha too small will result in numeric errors, setting alpha = 1.0e-10\n",
      "  'setting alpha = %.1e' % _ALPHA_MIN)\n",
      "/anaconda3/lib/python3.7/site-packages/sklearn/naive_bayes.py:480: UserWarning: alpha too small will result in numeric errors, setting alpha = 1.0e-10\n",
      "  'setting alpha = %.1e' % _ALPHA_MIN)\n"
     ]
    },
    {
     "name": "stdout",
     "output_type": "stream",
     "text": [
      "Best Score = 0.54 with alpha = 3.60\n"
     ]
    }
   ],
   "source": [
    "NB_model = MultinomialNB()\n",
    "param = {\"alpha\": np.arange(0, 10, 0.2)}\n",
    "gd_NB = GridSearchCV(NB_model, param, cv = 5)\n",
    "gd_NB.fit(basic_whole, Comb_df.Label.values)\n",
    "print(\"Best Score = %.2f with alpha = %.2f\"%(gd_NB.best_score_, gd_NB.best_params_['alpha'] ))"
   ]
  },
  {
   "cell_type": "markdown",
   "metadata": {},
   "source": [
    "## Reduce Tfidf Dimension by TruncatedSVD (PCA does not adapt to sparse matrix)\n",
    "**Notice**: <br>\n",
    "By practice, this won't work since SVD created negative input for naive base, **which is not allowed**\n",
    "<br>\n",
    "```python \n",
    "SVD_model = TruncatedSVD(n_components=380)\n",
    "basic_train_svd = SVD_model.fit_transform(basic_train)\n",
    "basic_test_svd = SVD_model.transform(basic_test)\n",
    "\n",
    "NB_model = MultinomialNB()\n",
    "NB_model = NB_model.fit(basic_train_svd, train_data.Label.values)\n",
    "accuracy_score(NB_model.predict(basic_test_svd), test_data.Label.values)\n",
    "```"
   ]
  },
  {
   "cell_type": "markdown",
   "metadata": {},
   "source": [
    "# Fit by Random Forest <a name = \"RF\"></a>\n",
    "\n",
    "[Back to Top](#backtotop)\n",
    "\n",
    "**Comment:**<br>\n",
    "- Even it is not shown below, I tuned the model by **N_estimators, max_depth, min_samples_split, min_samples_leaf, max_features** respectively but the accuracy did not indicate any strong changes"
   ]
  },
  {
   "cell_type": "code",
   "execution_count": 98,
   "metadata": {
    "scrolled": true
   },
   "outputs": [
    {
     "name": "stdout",
     "output_type": "stream",
     "text": [
      "Average accuarcy =  0.5189973614775726\n"
     ]
    }
   ],
   "source": [
    "accuracy_list = []\n",
    "cv = 10\n",
    "cv_list = []\n",
    "for i in range(cv):\n",
    "    RF_model = RandomForestClassifier(n_estimators= 32)\n",
    "    RF_model = RF_model.fit(basic_train, train_data.Label.values)\n",
    "    cv_list.append(accuracy_score(RF_model.predict(basic_test), test_data.Label.values))\n",
    "new_accuracy = np.average(cv_list)\n",
    "print(\"Average accuarcy = \", new_accuracy)"
   ]
  },
  {
   "cell_type": "markdown",
   "metadata": {},
   "source": [
    "### TruncatedSVD + Random Forest\n",
    "**Comment:**\n",
    "- The dimension reduction does not really improve the prediction"
   ]
  },
  {
   "cell_type": "code",
   "execution_count": 99,
   "metadata": {},
   "outputs": [
    {
     "name": "stderr",
     "output_type": "stream",
     "text": [
      "100%|██████████| 631/631 [06:20<00:00,  1.01it/s]\n"
     ]
    }
   ],
   "source": [
    "accuracy_list = []\n",
    "RF_model = RandomForestClassifier(n_estimators= 32)\n",
    "rang = range(1, 632)\n",
    "for num_compo in tqdm(rang):\n",
    "    SVD_model = TruncatedSVD(n_components=num_compo)\n",
    "    basic_train_svd = SVD_model.fit_transform(basic_train)\n",
    "    basic_test_svd = SVD_model.transform(basic_test)\n",
    "    RF_model = RF_model.fit(basic_train_svd, train_data.Label)\n",
    "    accuracy_list.append(accuracy_score(RF_model.predict(basic_test_svd), test_data.Label))"
   ]
  },
  {
   "cell_type": "code",
   "execution_count": 102,
   "metadata": {},
   "outputs": [
    {
     "data": {
      "image/png": "[encoded data removed]",
      "text/plain": [
       "<Figure size 432x288 with 1 Axes>"
      ]
     },
     "metadata": {
      "needs_background": "light"
     },
     "output_type": "display_data"
    }
   ],
   "source": [
    "plt.plot(rang, accuracy_list)\n",
    "plt.show()"
   ]
  },
  {
   "cell_type": "code",
   "execution_count": null,
   "metadata": {},
   "outputs": [],
   "source": []
  },
  {
   "cell_type": "code",
   "execution_count": null,
   "metadata": {},
   "outputs": [],
   "source": []
  },
  {
   "cell_type": "code",
   "execution_count": null,
   "metadata": {},
   "outputs": [],
   "source": []
  },
  {
   "cell_type": "code",
   "execution_count": null,
   "metadata": {},
   "outputs": [],
   "source": [
    "\n"
   ]
  }
 ],
 "metadata": {
  "kernelspec": {
   "display_name": "Python 3",
   "language": "python",
   "name": "python3"
  },
  "language_info": {
   "codemirror_mode": {
    "name": "ipython",
    "version": 3
   },
   "file_extension": ".py",
   "mimetype": "text/x-python",
   "name": "python",
   "nbconvert_exporter": "python",
   "pygments_lexer": "ipython3",
   "version": "3.7.3"
  }
 },
 "nbformat": 4,
 "nbformat_minor": 2
}
