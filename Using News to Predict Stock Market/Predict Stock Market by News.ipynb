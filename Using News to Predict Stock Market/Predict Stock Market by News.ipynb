{
 "cells": [
  {
   "cell_type": "markdown",
   "metadata": {},
   "source": [
    "# Agenda  <a name=\"backtotop\"></a>\n",
    "---\n",
    "\n",
    "1. [General Trend](#GT)\n",
    "2. [Fit By Logistic Regression](#LR)\n",
    "3. [Fit By Multinomial Naive Bayes](#MNB)\n",
    "4. [Fit By Random Forest](#RF)\n",
    "5. [Fit By Gradient Boosting Machines ](#GBM)\n",
    "6. [Fit By Naive Bayes SVM](#NBSVM)\n",
    "7. [Fit By Multilayer Perceptron Neural Network(MLP)](#MLP)\n",
    "8. [Fit By LSTM Neural Network](#LSTM)\n",
    "9. [Fit By Bidirectional LSTM Neural Network](#BD_LSTM)\n",
    "10. [Fit By Convolutional Neural Network](#CNN)"
   ]
  },
  {
   "cell_type": "markdown",
   "metadata": {},
   "source": [
    "# Introduction\n",
    "\n",
    "The project aims to predict daily rising/dropping trending of Dow Jones Industrial Average(AJIA) by news headlines. In other words, this is a binary classification NLP project<br>\n",
    "\n",
    "**News data** is crawled from Reddit WorldNews Channel <br>\n",
    "**DJIA data** is downloaded from Yahoo Finance <br>\n",
    "\n",
    "The models below may not be well optimized but fair enough to set a reasonable baseline <br>\n",
    "\n",
    "reference: https://www.kaggle.com/aaron7sun/stocknews"
   ]
  },
  {
   "cell_type": "markdown",
   "metadata": {},
   "source": [
    "## Accuracy Overview\n",
    "\n",
    "- **61%** -- Logistic Regression\n",
    "- **55%** -- Multinomial Naive Bayes\n",
    "- **52%** -- Random Forest\n",
    "- **54%** -- Gradient Boosting Machines\n",
    "- **52%** -- Naive Bayes SVM\n",
    "- **56%** -- Multilayer Perceptron Neural Network(MLP)\n",
    "- **55%** -- LSTM Neural Network\n",
    "- **55%** -- Bidirectional LSTM Neural Network\n",
    "- **54%** -- Convolutional Neural Network"
   ]
  },
  {
   "cell_type": "markdown",
   "metadata": {},
   "source": [
    "## Libraries"
   ]
  },
  {
   "cell_type": "code",
   "execution_count": 2,
   "metadata": {},
   "outputs": [
    {
     "name": "stderr",
     "output_type": "stream",
     "text": [
      "Using TensorFlow backend.\n"
     ]
    }
   ],
   "source": [
    "%matplotlib inline\n",
    "import re\n",
    "import six\n",
    "import keras\n",
    "import pandas as pd\n",
    "import numpy as np\n",
    "import matplotlib.pyplot as plt\n",
    "import tensorflow as tf\n",
    "\n",
    "from sklearn.model_selection import train_test_split, GridSearchCV\n",
    "from sklearn.feature_extraction.text import TfidfVectorizer\n",
    "from sklearn.linear_model import LogisticRegression\n",
    "from sklearn.metrics import accuracy_score\n",
    "from sklearn.decomposition import TruncatedSVD\n",
    "from sklearn.naive_bayes import MultinomialNB\n",
    "from sklearn.ensemble import RandomForestClassifier, GradientBoostingClassifier\n",
    "from sklearn.utils import check_X_y, check_array\n",
    "from sklearn.preprocessing import LabelBinarizer, normalize\n",
    "from sklearn.utils.extmath import safe_sparse_dot\n",
    "from sklearn.svm import LinearSVC \n",
    "from sklearn.base import BaseEstimator, ClassifierMixin\n",
    "\n",
    "from scipy.sparse import issparse\n",
    "from scipy import sparse\n",
    "\n",
    "from tensorflow.keras.preprocessing.text import Tokenizer\n",
    "from tensorflow.keras.preprocessing import sequence\n",
    "\n",
    "from tqdm import tqdm\n",
    "from abc import ABCMeta\n",
    "\n"
   ]
  },
  {
   "cell_type": "markdown",
   "metadata": {},
   "source": [
    "## Raw Data"
   ]
  },
  {
   "cell_type": "code",
   "execution_count": 3,
   "metadata": {},
   "outputs": [],
   "source": [
    "path = \"data/\"\n",
    "DJIA_fn = \"DJIA_table.csv\"\n",
    "News_fn = \"Combined_News_DJIA.csv\"\n",
    "\n",
    "DJIA_df = pd.read_csv(path + DJIA_fn)\n",
    "DJIA_df = DJIA_df.sort_values(\"Date\")\n",
    "DJIA_df.index = range(len(DJIA_df))\n",
    "\n",
    "News_df = pd.read_csv(path + News_fn)\n",
    "News_df = News_df.sort_values(\"Date\")\n",
    "News_df.index = range(len(News_df))"
   ]
  },
  {
   "cell_type": "markdown",
   "metadata": {},
   "source": [
    "## General Trend <a name = \"GT\"></a>\n",
    "\n",
    "[Back to Top](#backtotop)"
   ]
  },
  {
   "cell_type": "code",
   "execution_count": 4,
   "metadata": {},
   "outputs": [
    {
     "data": {
      "image/png": "[encoded data removed]",
      "text/plain": [
       "<Figure size 432x288 with 1 Axes>"
      ]
     },
     "metadata": {
      "needs_background": "light"
     },
     "output_type": "display_data"
    }
   ],
   "source": [
    "DJIA_df[\"Adj Close\"].plot()\n",
    "plt.show()"
   ]
  },
  {
   "cell_type": "markdown",
   "metadata": {},
   "source": [
    "## Clean data in News_df"
   ]
  },
  {
   "cell_type": "code",
   "execution_count": 5,
   "metadata": {},
   "outputs": [],
   "source": [
    "def RemoveQuote(tmp_str):\n",
    "    s_quote = False\n",
    "    d_quote = False\n",
    "    start_list = []\n",
    "    end_list = []\n",
    "    mid_str = tmp_str[5:len(tmp_str)-5]\n",
    "    for i in range(5):\n",
    "        if (not s_quote) or (not d_quote):\n",
    "            try:\n",
    "                if tmp_str[i] != \"\\'\" and tmp_str[i] != \"\\\"\":\n",
    "                    if i <=2 and tmp_str[i] == 'b':\n",
    "                        continue\n",
    "                    start_list.append(tmp_str[i])\n",
    "                if tmp_str[-5+i] != \"'\" and tmp_str[-5+i] != '\"':\n",
    "                    end_list.append(tmp_str[-5+i])\n",
    "            except:\n",
    "                print(tmp_str)\n",
    "\n",
    "    tmp_str = \"\".join(start_list) + mid_str + \"\".join(end_list)\n",
    "    return tmp_str\n",
    "\n",
    "headline_columns = [x for x in News_df.columns if re.match(\"Top\", x)]\n",
    "for col in headline_columns:\n",
    "    News_df[col] = News_df[col].apply(lambda x: RemoveQuote(x) if x == x else x)\n",
    "Comb_df = DJIA_df.merge(News_df, on = \"Date\", how = \"inner\")"
   ]
  },
  {
   "cell_type": "markdown",
   "metadata": {},
   "source": [
    "## Make Training Data and Testing Data (8:2)"
   ]
  },
  {
   "cell_type": "code",
   "execution_count": 6,
   "metadata": {},
   "outputs": [],
   "source": [
    "train_index = pd.to_datetime(DJIA_df.Date, format = \"%Y-%m-%d\") < pd.to_datetime(\"2014-12-31\", format = \"%Y-%m-%d\")\n",
    "train_data = Comb_df[train_index]\n",
    "test_data = Comb_df[~train_index]"
   ]
  },
  {
   "cell_type": "markdown",
   "metadata": {},
   "source": [
    "## Joint Top Hottest Headlines and Tokenize and Vecterize Text into Metrix"
   ]
  },
  {
   "cell_type": "code",
   "execution_count": 7,
   "metadata": {},
   "outputs": [],
   "source": [
    "joint_headlines_train = train_data[headline_columns[0]]\n",
    "joint_headlines_test = test_data[headline_columns[0]]\n",
    "for i in range(1, len(headline_columns)):\n",
    "    joint_headlines_train += (' ' + train_data[headline_columns[i]].apply(lambda x: str(x) if x == x else \"\"))\n",
    "    joint_headlines_test += (' ' + test_data[headline_columns[i]].apply(lambda x: str(x) if x == x else \"\"))\n",
    "\n",
    "basicVetorizer = TfidfVectorizer(min_df=0.03, max_df=0.97, max_features = 200000, ngram_range = (2, 2))\n",
    "basic_train = basicVetorizer.fit_transform([x for x in joint_headlines_train.values if x == x])\n",
    "basic_test = basicVetorizer.transform([x for x in joint_headlines_test.values if x == x])\n",
    "basic_whole = basicVetorizer.fit_transform([x for x in joint_headlines_train.append(joint_headlines_test).values if x==x])"
   ]
  },
  {
   "cell_type": "markdown",
   "metadata": {},
   "source": [
    "# Fit by Logistic Regression <a name = \"LR\"></a>\n",
    "    \n",
    "[Back to Top](#backtotop)\n",
    "> Find the best score by Grid Search on Penalty C <br>\n",
    "> **Assumptions:** <br>\n",
    "> - The outcome is binary <br>\n",
    "> - The observations are independent to each other <br>\n",
    "> - Absence of multicollinearity <br>\n",
    "> - Linearity of independent variables and log odds <br>\n",
    "> - Large size of database <br>\n"
   ]
  },
  {
   "cell_type": "code",
   "execution_count": 7,
   "metadata": {},
   "outputs": [
    {
     "name": "stdout",
     "output_type": "stream",
     "text": [
      "Best Score =  0.5354449472096531\n"
     ]
    }
   ],
   "source": [
    "\n",
    "logistic_model = LogisticRegression(solver='lbfgs')\n",
    "# logistic_model = logistic_model.fit(basic_train, train_data.Label)\n",
    "\n",
    "\n",
    "gs = GridSearchCV(logistic_model, {'C': [0.001,0.01,0.1,1,10,100,1000]}, cv = 12, scoring='accuracy',)\n",
    "gs.fit(TruncatedSVD(n_components=10).fit_transform(basicVetorizer.fit_transform([x for x in joint_headlines_train.append(joint_headlines_test).values if x == x])), Comb_df.Label.values)\n",
    "\n",
    "print(\"Best Score = \", gs.best_score_)"
   ]
  },
  {
   "cell_type": "markdown",
   "metadata": {},
   "source": [
    "**Comment**:\n",
    "> Logistic perform the best when C is around 0.001\n",
    "> The length of tokens does not really change the accuracy (tried 1-3 grams)"
   ]
  },
  {
   "cell_type": "markdown",
   "metadata": {},
   "source": [
    "## Reduce Tfidf Dimension by TruncatedSVD (PCA does not adapt to sparse matrix)"
   ]
  },
  {
   "cell_type": "code",
   "execution_count": 8,
   "metadata": {
    "scrolled": true
   },
   "outputs": [],
   "source": [
    "from sklearn.decomposition import TruncatedSVD\n",
    "accuracy_list = []\n",
    "\n",
    "for num_compo in range(1, 632):\n",
    "    SVD_model = TruncatedSVD(n_components=num_compo)\n",
    "    basic_train_svd = SVD_model.fit_transform(basic_train)\n",
    "    basic_test_svd = SVD_model.transform(basic_test)\n",
    "    logistic_model = logistic_model.fit(basic_train_svd, train_data.Label)\n",
    "    accuracy_list.append(accuracy_score(logistic_model.predict(basic_test_svd), test_data.Label))"
   ]
  },
  {
   "cell_type": "code",
   "execution_count": 9,
   "metadata": {},
   "outputs": [
    {
     "data": {
      "image/png": "[encoded data removed]",
      "text/plain": [
       "<Figure size 432x288 with 1 Axes>"
      ]
     },
     "metadata": {
      "needs_background": "light"
     },
     "output_type": "display_data"
    }
   ],
   "source": [
    "plt.plot(range(1, 632), accuracy_list)\n",
    "plt.title(\"Logistic Regression Accuracy Agains Feature Numbers\")\n",
    "plt.show()"
   ]
  },
  {
   "cell_type": "markdown",
   "metadata": {},
   "source": [
    "**Comment:**\n",
    "> The graph shows the extraordinary features pottentially reduce the accruacy from 0.02-0.01 <br>\n",
    "> The most ideal accruacy was made at around 480 number of features <br>"
   ]
  },
  {
   "cell_type": "markdown",
   "metadata": {},
   "source": [
    "# Fit by Multinomial Naive Bayes <a name = \"MNB\"></a>\n",
    "\n",
    "[Back to Top](#backtotop)"
   ]
  },
  {
   "cell_type": "code",
   "execution_count": 10,
   "metadata": {},
   "outputs": [
    {
     "name": "stderr",
     "output_type": "stream",
     "text": [
      "/anaconda3/lib/python3.7/site-packages/sklearn/naive_bayes.py:480: UserWarning: alpha too small will result in numeric errors, setting alpha = 1.0e-10\n",
      "  'setting alpha = %.1e' % _ALPHA_MIN)\n",
      "/anaconda3/lib/python3.7/site-packages/sklearn/naive_bayes.py:480: UserWarning: alpha too small will result in numeric errors, setting alpha = 1.0e-10\n",
      "  'setting alpha = %.1e' % _ALPHA_MIN)\n",
      "/anaconda3/lib/python3.7/site-packages/sklearn/naive_bayes.py:480: UserWarning: alpha too small will result in numeric errors, setting alpha = 1.0e-10\n",
      "  'setting alpha = %.1e' % _ALPHA_MIN)\n",
      "/anaconda3/lib/python3.7/site-packages/sklearn/naive_bayes.py:480: UserWarning: alpha too small will result in numeric errors, setting alpha = 1.0e-10\n",
      "  'setting alpha = %.1e' % _ALPHA_MIN)\n",
      "/anaconda3/lib/python3.7/site-packages/sklearn/naive_bayes.py:480: UserWarning: alpha too small will result in numeric errors, setting alpha = 1.0e-10\n",
      "  'setting alpha = %.1e' % _ALPHA_MIN)\n"
     ]
    },
    {
     "name": "stdout",
     "output_type": "stream",
     "text": [
      "Best Score = 0.55 with alpha = 7.40\n"
     ]
    }
   ],
   "source": [
    "NB_model = MultinomialNB()\n",
    "param = {\"alpha\": np.arange(0, 10, 0.2)}\n",
    "gd_NB = GridSearchCV(NB_model, param, cv = 5)\n",
    "gd_NB.fit(basic_whole, Comb_df.Label.values)\n",
    "print(\"Best Score = %.2f with alpha = %.2f\"%(gd_NB.best_score_, gd_NB.best_params_['alpha'] ))"
   ]
  },
  {
   "cell_type": "markdown",
   "metadata": {},
   "source": [
    "## Reduce Tfidf Dimension by TruncatedSVD (PCA does not adapt to sparse matrix)\n",
    "**Notice**: <br>\n",
    "By practice, this won't work since SVD created negative input for naive base, **which is not allowed**\n",
    "<br>\n",
    "```python \n",
    "SVD_model = TruncatedSVD(n_components=380)\n",
    "basic_train_svd = SVD_model.fit_transform(basic_train)\n",
    "basic_test_svd = SVD_model.transform(basic_test)\n",
    "\n",
    "NB_model = MultinomialNB()\n",
    "NB_model = NB_model.fit(basic_train_svd, train_data.Label.values)\n",
    "accuracy_score(NB_model.predict(basic_test_svd), test_data.Label.values)\n",
    "```"
   ]
  },
  {
   "cell_type": "markdown",
   "metadata": {},
   "source": [
    "# Fit by Random Forest <a name = \"RF\"></a>\n",
    "\n",
    "[Back to Top](#backtotop)\n",
    "\n",
    "**Comment:**<br>\n",
    "- Even it is not shown below, I tuned the model by **N_estimators, max_depth, min_samples_split, min_samples_leaf, max_features** respectively but the accuracy did not indicate any strong changes"
   ]
  },
  {
   "cell_type": "code",
   "execution_count": 11,
   "metadata": {
    "scrolled": true
   },
   "outputs": [
    {
     "name": "stdout",
     "output_type": "stream",
     "text": [
      "Average accuarcy =  0.520580474934037\n"
     ]
    }
   ],
   "source": [
    "accuracy_list = []\n",
    "cv = 10\n",
    "cv_list = []\n",
    "for i in range(cv):\n",
    "    RF_model = RandomForestClassifier(n_estimators= 32)\n",
    "    RF_model = RF_model.fit(basic_train, train_data.Label.values)\n",
    "    cv_list.append(accuracy_score(RF_model.predict(basic_test), test_data.Label.values))\n",
    "new_accuracy = np.average(cv_list)\n",
    "print(\"Average accuarcy = \", new_accuracy)"
   ]
  },
  {
   "cell_type": "markdown",
   "metadata": {},
   "source": [
    "### TruncatedSVD + Random Forest\n",
    "**Comment:**\n",
    "- The dimension reduction does not really improve the prediction"
   ]
  },
  {
   "cell_type": "code",
   "execution_count": null,
   "metadata": {},
   "outputs": [],
   "source": [
    "accuracy_list = []\n",
    "RF_model = RandomForestClassifier(n_estimators= 32)\n",
    "rang = range(1, 632)\n",
    "for num_compo in tqdm(rang):\n",
    "    SVD_model = TruncatedSVD(n_components=num_compo)\n",
    "    basic_train_svd = SVD_model.fit_transform(basic_train)\n",
    "    basic_test_svd = SVD_model.transform(basic_test)\n",
    "    RF_model = RF_model.fit(basic_train_svd, train_data.Label)\n",
    "    accuracy_list.append(accuracy_score(RF_model.predict(basic_test_svd), test_data.Label))"
   ]
  },
  {
   "cell_type": "code",
   "execution_count": null,
   "metadata": {},
   "outputs": [],
   "source": [
    "plt.plot(rang, accuracy_list)\n",
    "plt.show()"
   ]
  },
  {
   "cell_type": "markdown",
   "metadata": {},
   "source": [
    "# Fit by Gradient Boosting Machines <a name = \"GBM\"></a>\n",
    "\n",
    "[Back to Top](#backtotop)\n",
    "\n",
    "**Comment**:<br>\n",
    "The result is pretty much very similar to Random Forest"
   ]
  },
  {
   "cell_type": "code",
   "execution_count": 8,
   "metadata": {},
   "outputs": [
    {
     "name": "stdout",
     "output_type": "stream",
     "text": [
      "Average accuarcy =  0.5058047493403693\n"
     ]
    }
   ],
   "source": [
    "accuracy_list = []\n",
    "cv = 10\n",
    "cv_list = []\n",
    "for i in range(cv):\n",
    "    GBM_model = GradientBoostingClassifier(n_estimators= 10, n_iter_no_change = 3)\n",
    "    GBM_model = GBM_model.fit(basic_train, train_data.Label.values)\n",
    "    cv_list.append(accuracy_score(GBM_model.predict(basic_test), test_data.Label.values))\n",
    "new_accuracy = np.average(cv_list)\n",
    "print(\"Average accuarcy = \", new_accuracy)"
   ]
  },
  {
   "cell_type": "code",
   "execution_count": 9,
   "metadata": {},
   "outputs": [
    {
     "name": "stderr",
     "output_type": "stream",
     "text": [
      "100%|██████████| 631/631 [12:33<00:00,  2.49s/it]\n"
     ]
    }
   ],
   "source": [
    "accuracy_list = []\n",
    "GBM_model = GradientBoostingClassifier(n_estimators= 32)\n",
    "rang = range(1, 632)\n",
    "for num_compo in tqdm(rang):\n",
    "    SVD_model = TruncatedSVD(n_components=num_compo)\n",
    "    basic_train_svd = SVD_model.fit_transform(basic_train)\n",
    "    basic_test_svd = SVD_model.transform(basic_test)\n",
    "    GBM_model = GBM_model.fit(basic_train_svd, train_data.Label)\n",
    "    accuracy_list.append(accuracy_score(GBM_model.predict(basic_test_svd), test_data.Label))"
   ]
  },
  {
   "cell_type": "code",
   "execution_count": 10,
   "metadata": {},
   "outputs": [
    {
     "data": {
      "image/png": "[encoded data removed]",
      "text/plain": [
       "<Figure size 432x288 with 1 Axes>"
      ]
     },
     "metadata": {
      "needs_background": "light"
     },
     "output_type": "display_data"
    }
   ],
   "source": [
    "plt.plot(rang, accuracy_list)\n",
    "plt.show()"
   ]
  },
  {
   "cell_type": "markdown",
   "metadata": {},
   "source": [
    "# Fit by Naive Bayes SVM <a name = \"NBSVM\"></a>\n",
    "\n",
    "[Back to Top](#backtotop)\n",
    "\n",
    "**Comment**:<br>\n",
    "- Naive Base(NB) and Support Vector Machine(SVM) are widely used as base-line in test-related task. Their accuracy varies significantly across varients, features and datasets\n",
    "- **NB does better job than SVM in short snippet sentiment tasks, while SVM outperforms NB in long documents**\n",
    "- A SVM varients using NB log-count ratio as a feature constantly performs well"
   ]
  },
  {
   "cell_type": "code",
   "execution_count": 11,
   "metadata": {},
   "outputs": [],
   "source": [
    "\n",
    "class NBSVM(six.with_metaclass(ABCMeta, BaseEstimator, ClassifierMixin)):\n",
    "\n",
    "    def __init__(self, alpha=1.0, C=1.0, max_iter=10000):\n",
    "        self.alpha = alpha\n",
    "        self.max_iter = max_iter\n",
    "        self.C = C\n",
    "        self.svm_ = [] # fuggly\n",
    "\n",
    "    def fit(self, X, y):\n",
    "        X, y = check_X_y(X, y, 'csr')\n",
    "        _, n_features = X.shape\n",
    "\n",
    "        labelbin = LabelBinarizer()\n",
    "        Y = labelbin.fit_transform(y)\n",
    "        self.classes_ = labelbin.classes_\n",
    "        if Y.shape[1] == 1:\n",
    "            Y = np.concatenate((1 - Y, Y), axis=1)\n",
    "\n",
    "        # LabelBinarizer().fit_transform() returns arrays with dtype=np.int64.\n",
    "        # so we don't have to cast X to floating point\n",
    "        Y = Y.astype(np.float64)\n",
    "\n",
    "        # Count raw events from data\n",
    "        n_effective_classes = Y.shape[1]\n",
    "        self.class_count_ = np.zeros(n_effective_classes, dtype=np.float64)\n",
    "        self.ratios_ = np.full((n_effective_classes, n_features), self.alpha,\n",
    "                                 dtype=np.float64)\n",
    "        self._compute_ratios(X, Y)\n",
    "\n",
    "        # flugglyness\n",
    "        for i in range(n_effective_classes):\n",
    "            X_i = X.multiply(self.ratios_[i])\n",
    "            svm = LinearSVC(C=self.C, max_iter=self.max_iter)\n",
    "            Y_i = Y[:,i]\n",
    "            svm.fit(X_i, Y_i)\n",
    "            self.svm_.append(svm) \n",
    "\n",
    "        return self\n",
    "\n",
    "    def predict(self, X):\n",
    "        n_effective_classes = self.class_count_.shape[0]\n",
    "        n_examples = X.shape[0]\n",
    "\n",
    "        D = np.zeros((n_effective_classes, n_examples))\n",
    "\n",
    "        for i in range(n_effective_classes):\n",
    "            X_i = X.multiply(self.ratios_[i])\n",
    "            D[i] = self.svm_[i].decision_function(X_i)\n",
    "        \n",
    "        return self.classes_[np.argmax(D, axis=0)]\n",
    "        \n",
    "    def _compute_ratios(self, X, Y):\n",
    "        \"\"\"Count feature occurrences and compute ratios.\"\"\"\n",
    "        if np.any((X.data if issparse(X) else X) < 0):\n",
    "            raise ValueError(\"Input X must be non-negative\")\n",
    "\n",
    "        self.ratios_ += safe_sparse_dot(Y.T, X)  # ratio + feature_occurrance_c\n",
    "        normalize(self.ratios_, norm='l1', axis=1, copy=False)\n",
    "        row_calc = lambda r: np.log(np.divide(r, (1 - r)))\n",
    "        self.ratios_ = np.apply_along_axis(row_calc, axis=1, arr=self.ratios_)\n",
    "        check_array(self.ratios_)\n",
    "        self.ratios_ = sparse.csr_matrix(self.ratios_)\n",
    "\n",
    "        #p_c /= np.linalg.norm(p_c, ord=1)\n",
    "        #ratios[c] = np.log(p_c / (1 - p_c))\n",
    "\n",
    "\n",
    "def f1_class(pred, truth, class_val):\n",
    "    n = len(truth)\n",
    "\n",
    "    truth_class = 0\n",
    "    pred_class = 0\n",
    "    tp = 0\n",
    "\n",
    "    for ii in range(0, n):\n",
    "        if truth[ii] == class_val:\n",
    "            truth_class += 1\n",
    "            if truth[ii] == pred[ii]:\n",
    "                tp += 1\n",
    "                pred_class += 1\n",
    "                continue;\n",
    "        if pred[ii] == class_val:\n",
    "            pred_class += 1\n",
    "\n",
    "    precision = tp / float(pred_class)\n",
    "    recall = tp / float(truth_class)\n",
    "\n",
    "    return (2.0 * precision * recall) / (precision + recall)\n",
    "\n",
    "\n",
    "def semeval_senti_f1(pred, truth, pos=2, neg=0): \n",
    "\n",
    "    f1_pos = f1_class(pred, truth, pos)\n",
    "    f1_neg = f1_class(pred, truth, neg)\n",
    "\n",
    "    return (f1_pos + f1_neg) / 2.0;\n",
    "\n",
    "\n",
    "def main(train_file, test_file, ngram=(1, 3)):\n",
    "    print('loading...')\n",
    "    train = pd.read_csv(train_file, delimiter='\\t', encoding='utf-8', header=0,\n",
    "                        names=['text', 'label'])\n",
    "\n",
    "    # to shuffle:\n",
    "    #train.iloc[np.random.permutation(len(df))]\n",
    "\n",
    "    test = pd.read_csv(test_file, delimiter='\\t', encoding='utf-8', header=0,\n",
    "                        names=['text', 'label'])\n",
    "\n",
    "    print('vectorizing...')\n",
    "    vect = CountVectorizer()\n",
    "    classifier = NBSVM()\n",
    "\n",
    "    # create pipeline\n",
    "    clf = Pipeline([('vect', vect), ('nbsvm', classifier)])\n",
    "    params = {\n",
    "        'vect__token_pattern': r\"\\S+\",\n",
    "        'vect__ngram_range': ngram, \n",
    "        'vect__binary': True\n",
    "    }\n",
    "    clf.set_params(**params)\n",
    "\n",
    "    #X_train = vect.fit_transform(train['text'])\n",
    "    #X_test = vect.transform(test['text'])\n",
    "\n",
    "    print('fitting...')\n",
    "    clf.fit(train['text'], train['label'])\n",
    "\n",
    "    print('classifying...')\n",
    "    pred = clf.predict(test['text'])\n",
    "   \n",
    "    print('testing...')\n",
    "    acc = accuracy_score(test['label'], pred)\n",
    "    f1 = semeval_senti_f1(pred, test['label'])\n",
    "    print('NBSVM: acc=%f, f1=%f' % (acc, f1))"
   ]
  },
  {
   "cell_type": "code",
   "execution_count": 14,
   "metadata": {},
   "outputs": [
    {
     "name": "stdout",
     "output_type": "stream",
     "text": [
      "Naive Bayes SVM -- Accuracy:  0.525065963060686\n"
     ]
    }
   ],
   "source": [
    "NB_SVM_model = NBSVM()\n",
    "NB_SVM_model = NB_SVM_model.fit(basic_train, train_data.Label.values)\n",
    "NB_SVM_accuracy = accuracy_score(NB_SVM_model.predict(basic_test), test_data.Label.values)\n",
    "\n",
    "print(\"Naive Bayes SVM -- Accuracy: \", NB_SVM_accuracy)"
   ]
  },
  {
   "cell_type": "markdown",
   "metadata": {},
   "source": [
    "# Fit by Multilayer Perceptron Neural Network(MLP) <a name = \"MLP\"></a>\n",
    "\n",
    "[Back to Top](#backtotop)\n"
   ]
  },
  {
   "cell_type": "code",
   "execution_count": 15,
   "metadata": {},
   "outputs": [
    {
     "name": "stderr",
     "output_type": "stream",
     "text": [
      "\r",
      "  0%|          | 0/50 [00:00<?, ?it/s]"
     ]
    },
    {
     "name": "stdout",
     "output_type": "stream",
     "text": [
      "WARNING:tensorflow:From /anaconda3/lib/python3.7/site-packages/tensorflow/python/ops/resource_variable_ops.py:435: colocate_with (from tensorflow.python.framework.ops) is deprecated and will be removed in a future version.\n",
      "Instructions for updating:\n",
      "Colocations handled automatically by placer.\n",
      "WARNING:tensorflow:From /anaconda3/lib/python3.7/site-packages/tensorflow/python/keras/layers/core.py:143: calling dropout (from tensorflow.python.ops.nn_ops) with keep_prob is deprecated and will be removed in a future version.\n",
      "Instructions for updating:\n",
      "Please use `rate` instead of `keep_prob`. Rate should be set to `rate = 1 - keep_prob`.\n",
      "1610/1610 [==============================] - 1s 695us/sample - loss: 0.6967\n"
     ]
    },
    {
     "name": "stderr",
     "output_type": "stream",
     "text": [
      "\r",
      "  2%|▏         | 1/50 [00:01<01:12,  1.49s/it]"
     ]
    },
    {
     "name": "stdout",
     "output_type": "stream",
     "text": [
      "1610/1610 [==============================] - 1s 638us/sample - loss: 0.6935\n"
     ]
    },
    {
     "name": "stderr",
     "output_type": "stream",
     "text": [
      "\r",
      "  4%|▍         | 2/50 [00:02<01:09,  1.44s/it]"
     ]
    },
    {
     "name": "stdout",
     "output_type": "stream",
     "text": [
      "1610/1610 [==============================] - 1s 647us/sample - loss: 0.6947\n"
     ]
    },
    {
     "name": "stderr",
     "output_type": "stream",
     "text": [
      "\r",
      "  6%|▌         | 3/50 [00:04<01:08,  1.46s/it]"
     ]
    },
    {
     "name": "stdout",
     "output_type": "stream",
     "text": [
      "1610/1610 [==============================] - 1s 704us/sample - loss: 0.6951\n"
     ]
    },
    {
     "name": "stderr",
     "output_type": "stream",
     "text": [
      "\r",
      "  8%|▊         | 4/50 [00:05<01:07,  1.46s/it]"
     ]
    },
    {
     "name": "stdout",
     "output_type": "stream",
     "text": [
      "1610/1610 [==============================] - 1s 704us/sample - loss: 0.6930\n"
     ]
    },
    {
     "name": "stderr",
     "output_type": "stream",
     "text": [
      "\r",
      " 10%|█         | 5/50 [00:07<01:06,  1.48s/it]"
     ]
    },
    {
     "name": "stdout",
     "output_type": "stream",
     "text": [
      "1610/1610 [==============================] - 1s 711us/sample - loss: 0.6953\n"
     ]
    },
    {
     "name": "stderr",
     "output_type": "stream",
     "text": [
      "\r",
      " 12%|█▏        | 6/50 [00:08<01:07,  1.53s/it]"
     ]
    },
    {
     "name": "stdout",
     "output_type": "stream",
     "text": [
      "1610/1610 [==============================] - 1s 784us/sample - loss: 0.6949\n"
     ]
    },
    {
     "name": "stderr",
     "output_type": "stream",
     "text": [
      "\r",
      " 14%|█▍        | 7/50 [00:10<01:07,  1.56s/it]"
     ]
    },
    {
     "name": "stdout",
     "output_type": "stream",
     "text": [
      "1610/1610 [==============================] - 1s 716us/sample - loss: 0.6957\n"
     ]
    },
    {
     "name": "stderr",
     "output_type": "stream",
     "text": [
      "\r",
      " 16%|█▌        | 8/50 [00:12<01:05,  1.56s/it]"
     ]
    },
    {
     "name": "stdout",
     "output_type": "stream",
     "text": [
      "1610/1610 [==============================] - 1s 749us/sample - loss: 0.6966\n"
     ]
    },
    {
     "name": "stderr",
     "output_type": "stream",
     "text": [
      "\r",
      " 18%|█▊        | 9/50 [00:13<01:04,  1.57s/it]"
     ]
    },
    {
     "name": "stdout",
     "output_type": "stream",
     "text": [
      "1610/1610 [==============================] - 1s 752us/sample - loss: 0.6962\n"
     ]
    },
    {
     "name": "stderr",
     "output_type": "stream",
     "text": [
      "\r",
      " 20%|██        | 10/50 [00:15<01:05,  1.64s/it]"
     ]
    },
    {
     "name": "stdout",
     "output_type": "stream",
     "text": [
      "1610/1610 [==============================] - 1s 869us/sample - loss: 0.6945\n"
     ]
    },
    {
     "name": "stderr",
     "output_type": "stream",
     "text": [
      "\r",
      " 22%|██▏       | 11/50 [00:17<01:07,  1.74s/it]"
     ]
    },
    {
     "name": "stdout",
     "output_type": "stream",
     "text": [
      "1610/1610 [==============================] - 2s 1ms/sample - loss: 0.6971\n"
     ]
    },
    {
     "name": "stderr",
     "output_type": "stream",
     "text": [
      "\r",
      " 24%|██▍       | 12/50 [00:19<01:11,  1.88s/it]"
     ]
    },
    {
     "name": "stdout",
     "output_type": "stream",
     "text": [
      "1610/1610 [==============================] - 1s 813us/sample - loss: 0.6950\n"
     ]
    },
    {
     "name": "stderr",
     "output_type": "stream",
     "text": [
      "\r",
      " 26%|██▌       | 13/50 [00:21<01:07,  1.83s/it]"
     ]
    },
    {
     "name": "stdout",
     "output_type": "stream",
     "text": [
      "1610/1610 [==============================] - 1s 812us/sample - loss: 0.6995\n"
     ]
    },
    {
     "name": "stderr",
     "output_type": "stream",
     "text": [
      "\r",
      " 28%|██▊       | 14/50 [00:23<01:05,  1.81s/it]"
     ]
    },
    {
     "name": "stdout",
     "output_type": "stream",
     "text": [
      "1610/1610 [==============================] - 1s 828us/sample - loss: 0.6929\n"
     ]
    },
    {
     "name": "stderr",
     "output_type": "stream",
     "text": [
      "\r",
      " 30%|███       | 15/50 [00:25<01:05,  1.87s/it]"
     ]
    },
    {
     "name": "stdout",
     "output_type": "stream",
     "text": [
      "1610/1610 [==============================] - 1s 854us/sample - loss: 0.6962\n"
     ]
    },
    {
     "name": "stderr",
     "output_type": "stream",
     "text": [
      "\r",
      " 32%|███▏      | 16/50 [00:27<01:03,  1.86s/it]"
     ]
    },
    {
     "name": "stdout",
     "output_type": "stream",
     "text": [
      "1610/1610 [==============================] - 1s 871us/sample - loss: 0.6961\n"
     ]
    },
    {
     "name": "stderr",
     "output_type": "stream",
     "text": [
      "\r",
      " 34%|███▍      | 17/50 [00:28<01:01,  1.87s/it]"
     ]
    },
    {
     "name": "stdout",
     "output_type": "stream",
     "text": [
      "1610/1610 [==============================] - 1s 906us/sample - loss: 0.6965\n"
     ]
    },
    {
     "name": "stderr",
     "output_type": "stream",
     "text": [
      "\r",
      " 36%|███▌      | 18/50 [00:30<01:00,  1.89s/it]"
     ]
    },
    {
     "name": "stdout",
     "output_type": "stream",
     "text": [
      "1610/1610 [==============================] - 1s 919us/sample - loss: 0.6957\n"
     ]
    },
    {
     "name": "stderr",
     "output_type": "stream",
     "text": [
      "\r",
      " 38%|███▊      | 19/50 [00:32<00:59,  1.92s/it]"
     ]
    },
    {
     "name": "stdout",
     "output_type": "stream",
     "text": [
      "1610/1610 [==============================] - 2s 1ms/sample - loss: 0.6961\n"
     ]
    },
    {
     "name": "stderr",
     "output_type": "stream",
     "text": [
      "\r",
      " 40%|████      | 20/50 [00:35<01:00,  2.01s/it]"
     ]
    },
    {
     "name": "stdout",
     "output_type": "stream",
     "text": [
      "1610/1610 [==============================] - 2s 1ms/sample - loss: 0.6956\n"
     ]
    },
    {
     "name": "stderr",
     "output_type": "stream",
     "text": [
      "\r",
      " 42%|████▏     | 21/50 [00:37<01:03,  2.18s/it]"
     ]
    },
    {
     "name": "stdout",
     "output_type": "stream",
     "text": [
      "1610/1610 [==============================] - 2s 1ms/sample - loss: 0.6949\n"
     ]
    },
    {
     "name": "stderr",
     "output_type": "stream",
     "text": [
      "\r",
      " 44%|████▍     | 22/50 [00:40<01:02,  2.24s/it]"
     ]
    },
    {
     "name": "stdout",
     "output_type": "stream",
     "text": [
      "1610/1610 [==============================] - 2s 1ms/sample - loss: 0.6958\n"
     ]
    },
    {
     "name": "stderr",
     "output_type": "stream",
     "text": [
      "\r",
      " 46%|████▌     | 23/50 [00:42<01:01,  2.27s/it]"
     ]
    },
    {
     "name": "stdout",
     "output_type": "stream",
     "text": [
      "1610/1610 [==============================] - 2s 1ms/sample - loss: 0.6961\n"
     ]
    },
    {
     "name": "stderr",
     "output_type": "stream",
     "text": [
      "\r",
      " 48%|████▊     | 24/50 [00:44<01:00,  2.31s/it]"
     ]
    },
    {
     "name": "stdout",
     "output_type": "stream",
     "text": [
      "1610/1610 [==============================] - 2s 1ms/sample - loss: 0.6930\n"
     ]
    },
    {
     "name": "stderr",
     "output_type": "stream",
     "text": [
      "\r",
      " 50%|█████     | 25/50 [00:47<00:59,  2.36s/it]"
     ]
    },
    {
     "name": "stdout",
     "output_type": "stream",
     "text": [
      "1610/1610 [==============================] - 2s 1ms/sample - loss: 0.6941\n"
     ]
    },
    {
     "name": "stderr",
     "output_type": "stream",
     "text": [
      "\r",
      " 52%|█████▏    | 26/50 [00:49<00:58,  2.43s/it]"
     ]
    },
    {
     "name": "stdout",
     "output_type": "stream",
     "text": [
      "1610/1610 [==============================] - 2s 1ms/sample - loss: 0.6950\n"
     ]
    },
    {
     "name": "stderr",
     "output_type": "stream",
     "text": [
      "\r",
      " 54%|█████▍    | 27/50 [00:52<00:56,  2.46s/it]"
     ]
    },
    {
     "name": "stdout",
     "output_type": "stream",
     "text": [
      "1610/1610 [==============================] - 2s 1ms/sample - loss: 0.6964\n"
     ]
    },
    {
     "name": "stderr",
     "output_type": "stream",
     "text": [
      "\r",
      " 56%|█████▌    | 28/50 [00:55<00:56,  2.56s/it]"
     ]
    },
    {
     "name": "stdout",
     "output_type": "stream",
     "text": [
      "1610/1610 [==============================] - 2s 1ms/sample - loss: 0.6922\n"
     ]
    },
    {
     "name": "stderr",
     "output_type": "stream",
     "text": [
      "\r",
      " 58%|█████▊    | 29/50 [00:58<00:56,  2.67s/it]"
     ]
    },
    {
     "name": "stdout",
     "output_type": "stream",
     "text": [
      "1610/1610 [==============================] - 2s 1ms/sample - loss: 0.6947\n"
     ]
    },
    {
     "name": "stderr",
     "output_type": "stream",
     "text": [
      "\r",
      " 60%|██████    | 30/50 [01:00<00:53,  2.68s/it]"
     ]
    },
    {
     "name": "stdout",
     "output_type": "stream",
     "text": [
      "1610/1610 [==============================] - 2s 1ms/sample - loss: 0.6965\n"
     ]
    },
    {
     "name": "stderr",
     "output_type": "stream",
     "text": [
      "\r",
      " 62%|██████▏   | 31/50 [01:03<00:51,  2.71s/it]"
     ]
    },
    {
     "name": "stdout",
     "output_type": "stream",
     "text": [
      "1610/1610 [==============================] - 2s 1ms/sample - loss: 0.6954\n"
     ]
    },
    {
     "name": "stderr",
     "output_type": "stream",
     "text": [
      "\r",
      " 64%|██████▍   | 32/50 [01:06<00:48,  2.72s/it]"
     ]
    },
    {
     "name": "stdout",
     "output_type": "stream",
     "text": [
      "1610/1610 [==============================] - 2s 1ms/sample - loss: 0.6957\n"
     ]
    },
    {
     "name": "stderr",
     "output_type": "stream",
     "text": [
      "\r",
      " 66%|██████▌   | 33/50 [01:09<00:46,  2.75s/it]"
     ]
    },
    {
     "name": "stdout",
     "output_type": "stream",
     "text": [
      "1610/1610 [==============================] - 2s 1ms/sample - loss: 0.6989\n"
     ]
    },
    {
     "name": "stderr",
     "output_type": "stream",
     "text": [
      "\r",
      " 68%|██████▊   | 34/50 [01:12<00:45,  2.82s/it]"
     ]
    },
    {
     "name": "stdout",
     "output_type": "stream",
     "text": [
      "1610/1610 [==============================] - 2s 1ms/sample - loss: 0.6967\n"
     ]
    },
    {
     "name": "stderr",
     "output_type": "stream",
     "text": [
      "\r",
      " 70%|███████   | 35/50 [01:15<00:43,  2.91s/it]"
     ]
    },
    {
     "name": "stdout",
     "output_type": "stream",
     "text": [
      "1610/1610 [==============================] - 2s 1ms/sample - loss: 0.6961\n"
     ]
    },
    {
     "name": "stderr",
     "output_type": "stream",
     "text": [
      "\r",
      " 72%|███████▏  | 36/50 [01:18<00:41,  2.98s/it]"
     ]
    },
    {
     "name": "stdout",
     "output_type": "stream",
     "text": [
      "1610/1610 [==============================] - 2s 1ms/sample - loss: 0.6967\n"
     ]
    },
    {
     "name": "stderr",
     "output_type": "stream",
     "text": [
      "\r",
      " 74%|███████▍  | 37/50 [01:21<00:39,  3.02s/it]"
     ]
    },
    {
     "name": "stdout",
     "output_type": "stream",
     "text": [
      "1610/1610 [==============================] - 2s 1ms/sample - loss: 0.6957\n"
     ]
    },
    {
     "name": "stderr",
     "output_type": "stream",
     "text": [
      "\r",
      " 76%|███████▌  | 38/50 [01:24<00:37,  3.15s/it]"
     ]
    },
    {
     "name": "stdout",
     "output_type": "stream",
     "text": [
      "1610/1610 [==============================] - 2s 1ms/sample - loss: 0.6967\n"
     ]
    },
    {
     "name": "stderr",
     "output_type": "stream",
     "text": [
      "\r",
      " 78%|███████▊  | 39/50 [01:28<00:34,  3.14s/it]"
     ]
    },
    {
     "name": "stdout",
     "output_type": "stream",
     "text": [
      "1610/1610 [==============================] - 2s 1ms/sample - loss: 0.6943\n"
     ]
    },
    {
     "name": "stderr",
     "output_type": "stream",
     "text": [
      "\r",
      " 80%|████████  | 40/50 [01:31<00:31,  3.15s/it]"
     ]
    },
    {
     "name": "stdout",
     "output_type": "stream",
     "text": [
      "1610/1610 [==============================] - 2s 1ms/sample - loss: 0.6964\n"
     ]
    },
    {
     "name": "stderr",
     "output_type": "stream",
     "text": [
      "\r",
      " 82%|████████▏ | 41/50 [01:34<00:28,  3.18s/it]"
     ]
    },
    {
     "name": "stdout",
     "output_type": "stream",
     "text": [
      "1610/1610 [==============================] - 2s 2ms/sample - loss: 0.6920\n"
     ]
    },
    {
     "name": "stderr",
     "output_type": "stream",
     "text": [
      "\r",
      " 84%|████████▍ | 42/50 [01:37<00:25,  3.23s/it]"
     ]
    },
    {
     "name": "stdout",
     "output_type": "stream",
     "text": [
      "1610/1610 [==============================] - 2s 2ms/sample - loss: 0.6973\n"
     ]
    },
    {
     "name": "stderr",
     "output_type": "stream",
     "text": [
      "\r",
      " 86%|████████▌ | 43/50 [01:41<00:22,  3.27s/it]"
     ]
    },
    {
     "name": "stdout",
     "output_type": "stream",
     "text": [
      "1610/1610 [==============================] - 2s 2ms/sample - loss: 0.6946\n"
     ]
    },
    {
     "name": "stderr",
     "output_type": "stream",
     "text": [
      "\r",
      " 88%|████████▊ | 44/50 [01:44<00:19,  3.30s/it]"
     ]
    },
    {
     "name": "stdout",
     "output_type": "stream",
     "text": [
      "1610/1610 [==============================] - 2s 2ms/sample - loss: 0.6945\n"
     ]
    },
    {
     "name": "stderr",
     "output_type": "stream",
     "text": [
      "\r",
      " 90%|█████████ | 45/50 [01:48<00:16,  3.34s/it]"
     ]
    },
    {
     "name": "stdout",
     "output_type": "stream",
     "text": [
      "1610/1610 [==============================] - 3s 2ms/sample - loss: 0.6948\n"
     ]
    },
    {
     "name": "stderr",
     "output_type": "stream",
     "text": [
      "\r",
      " 92%|█████████▏| 46/50 [01:51<00:13,  3.39s/it]"
     ]
    },
    {
     "name": "stdout",
     "output_type": "stream",
     "text": [
      "1610/1610 [==============================] - 3s 2ms/sample - loss: 0.6966\n"
     ]
    },
    {
     "name": "stderr",
     "output_type": "stream",
     "text": [
      "\r",
      " 94%|█████████▍| 47/50 [01:55<00:10,  3.43s/it]"
     ]
    },
    {
     "name": "stdout",
     "output_type": "stream",
     "text": [
      "1610/1610 [==============================] - 3s 2ms/sample - loss: 0.6975\n"
     ]
    },
    {
     "name": "stderr",
     "output_type": "stream",
     "text": [
      "\r",
      " 96%|█████████▌| 48/50 [01:58<00:06,  3.48s/it]"
     ]
    },
    {
     "name": "stdout",
     "output_type": "stream",
     "text": [
      "1610/1610 [==============================] - 3s 2ms/sample - loss: 0.6961\n"
     ]
    },
    {
     "name": "stderr",
     "output_type": "stream",
     "text": [
      "\r",
      " 98%|█████████▊| 49/50 [02:02<00:03,  3.63s/it]"
     ]
    },
    {
     "name": "stdout",
     "output_type": "stream",
     "text": [
      "1610/1610 [==============================] - 3s 2ms/sample - loss: 0.6936\n"
     ]
    },
    {
     "name": "stderr",
     "output_type": "stream",
     "text": [
      "100%|██████████| 50/50 [02:07<00:00,  3.91s/it]\n"
     ]
    }
   ],
   "source": [
    "accuracy_list = []\n",
    "rang = np.arange(10, 5000, 100)\n",
    "for num in tqdm(rang):\n",
    "    MPLNN_model = tf.keras.models.Sequential([\n",
    "        tf.keras.layers.Flatten(input_shape = (basic_train.shape[1],)),\n",
    "        tf.keras.layers.Dense(2800, activation=\"relu\"),\n",
    "        tf.keras.layers.Dropout(0),\n",
    "        tf.keras.layers.Dense(256, activation=\"relu\"),\n",
    "        tf.keras.layers.Dropout(0),\n",
    "        tf.keras.layers.Dense(2, activation = \"softmax\")\n",
    "    ])\n",
    "\n",
    "    MPLNN_model.compile(optimizer = 'rmsprop', loss = 'sparse_categorical_crossentropy')\n",
    "    MPLNN_model.fit(basic_train, train_data.Label.values)\n",
    "    y_predict = MPLNN_model.predict_classes(basic_test)\n",
    "    accuracy_list.append(accuracy_score(y_predict, test_data.Label.values))"
   ]
  },
  {
   "cell_type": "markdown",
   "metadata": {},
   "source": [
    "### Looping the number of neurals at the first layer from 10 to 5000\n",
    "**Comment**: <br>\n",
    "The accuracy is the highest at around 2200 and 4800 number of neurals"
   ]
  },
  {
   "cell_type": "code",
   "execution_count": 16,
   "metadata": {},
   "outputs": [
    {
     "data": {
      "text/plain": [
       "[<matplotlib.lines.Line2D at 0x1aaca8ca90>]"
      ]
     },
     "execution_count": 16,
     "metadata": {},
     "output_type": "execute_result"
    },
    {
     "data": {
      "image/png": "[encoded data removed]",
      "text/plain": [
       "<Figure size 432x288 with 1 Axes>"
      ]
     },
     "metadata": {
      "needs_background": "light"
     },
     "output_type": "display_data"
    }
   ],
   "source": [
    "plt.plot(rang, accuracy_list)"
   ]
  },
  {
   "cell_type": "markdown",
   "metadata": {},
   "source": [
    "# Fit by LSTM Neural Network<a name = \"LSTM\"></a>\n",
    "\n",
    "[Back to Top](#backtotop)\n",
    "\n"
   ]
  },
  {
   "cell_type": "code",
   "execution_count": 19,
   "metadata": {},
   "outputs": [],
   "source": [
    "max_features = 10000\n",
    "max_len = 200\n",
    "tokenizer = Tokenizer(nb_words = max_features)\n",
    "tokenizer.fit_on_texts(joint_headlines_train)\n",
    "sequences_train = tokenizer.texts_to_sequences(joint_headlines_train)\n",
    "sequences_test = tokenizer.texts_to_sequences(joint_headlines_test)\n",
    "# LSTM_model.fit(basic_train, tf.keras.utils.to_categorical(train_data.Label.values))"
   ]
  },
  {
   "cell_type": "code",
   "execution_count": 20,
   "metadata": {},
   "outputs": [],
   "source": [
    "X_train = sequence.pad_sequences(sequences_train, maxlen=max_len)\n",
    "X_test = sequence.pad_sequences(sequences_test, maxlen=max_len)\n",
    "\n",
    "Y_train = tf.keras.utils.to_categorical(train_data.Label.values)\n",
    "Y_test = tf.keras.utils.to_categorical(test_data.Label.values)"
   ]
  },
  {
   "cell_type": "code",
   "execution_count": 21,
   "metadata": {},
   "outputs": [
    {
     "data": {
      "text/plain": [
       "((1610, 200), (1610, 2))"
      ]
     },
     "execution_count": 21,
     "metadata": {},
     "output_type": "execute_result"
    }
   ],
   "source": [
    "X_train.shape, Y_train.shape"
   ]
  },
  {
   "cell_type": "code",
   "execution_count": 22,
   "metadata": {},
   "outputs": [
    {
     "name": "stdout",
     "output_type": "stream",
     "text": [
      "Train...\n",
      "Epoch 1/3\n",
      "1610/1610 [==============================] - 37s 23ms/sample - loss: 0.6929 - categorical_accuracy: 0.5298\n",
      "Epoch 2/3\n",
      "1610/1610 [==============================] - 36s 22ms/sample - loss: 0.6447 - categorical_accuracy: 0.6832\n",
      "Epoch 3/3\n",
      "1610/1610 [==============================] - 35s 22ms/sample - loss: 0.3375 - categorical_accuracy: 0.8994\n",
      "379/379 [==============================] - 2s 4ms/sample - loss: 0.9341 - categorical_accuracy: 0.5567\n",
      "Test score: 0.9341191904211422\n",
      "Test accuracy: 0.55672824\n"
     ]
    }
   ],
   "source": [
    "LSTM_model = tf.keras.models.Sequential([\n",
    "        tf.keras.layers.Embedding(input_dim = max_features, output_dim = 200, mask_zero = True),\n",
    "        tf.keras.layers.Dropout(0.2),\n",
    "        tf.keras.layers.LSTM(300,\n",
    "                             dropout= 0.2, recurrent_dropout=0.2),\n",
    "        tf.keras.layers.Dense(2, activation = \"softmax\", input_shape = (32,300))\n",
    "])\n",
    "\n",
    "\n",
    "LSTM_model.compile(loss='categorical_crossentropy',\n",
    "              optimizer='adam',metrics=['categorical_accuracy'])\n",
    "             \n",
    "print('Train...')\n",
    "LSTM_model.fit(X_train, Y_train, batch_size=32, epochs=3)\n",
    "score, acc = LSTM_model.evaluate(X_test, Y_test,\n",
    "                            batch_size=32)\n",
    "print('Test score:', score)\n",
    "print('Test accuracy:', acc)"
   ]
  },
  {
   "cell_type": "markdown",
   "metadata": {},
   "source": [
    "# Fit by Bidirectional LSTM Neural Network<a name = \"BD_LSTM\"></a>\n",
    "\n",
    "[Back to Top](#backtotop)"
   ]
  },
  {
   "cell_type": "code",
   "execution_count": 36,
   "metadata": {},
   "outputs": [
    {
     "name": "stdout",
     "output_type": "stream",
     "text": [
      "Train...\n",
      "Epoch 1/3\n",
      "1610/1610 [==============================] - 172s 107ms/sample - loss: 0.6924 - categorical_accuracy: 0.5379\n",
      "Epoch 2/3\n",
      "1610/1610 [==============================] - 172s 107ms/sample - loss: 0.5096 - categorical_accuracy: 0.7944\n",
      "Epoch 3/3\n",
      "1610/1610 [==============================] - 174s 108ms/sample - loss: 0.0490 - categorical_accuracy: 0.9814\n",
      "379/379 [==============================] - 7s 19ms/sample - loss: 1.5092 - categorical_accuracy: 0.5488\n",
      "Test score: 1.5092410163703254\n",
      "Test accuracy: 0.5488127\n"
     ]
    }
   ],
   "source": [
    "forward_LSTM = tf.keras.layers.LSTM(300, dropout= 0.2, recurrent_dropout=0.2, return_sequences=True)\n",
    "backward_LSTM = tf.keras.layers.LSTM(300, dropout= 0.2, recurrent_dropout=0.2, return_sequences=True, go_backwards = True)\n",
    "\n",
    "\n",
    "LSTM_model = tf.keras.models.Sequential()\n",
    "LSTM_model.add(tf.keras.layers.Embedding(input_dim = max_features, output_dim = 200, mask_zero = True))\n",
    "LSTM_model.add(tf.keras.layers.Bidirectional(tf.keras.layers.LSTM(300, return_sequences=True), input_shape=(32, 200)))\n",
    "LSTM_model.add(tf.keras.layers.Bidirectional(tf.keras.layers.LSTM(300)))\n",
    "LSTM_model.add(tf.keras.layers.Dense(2, activation = \"softmax\"))\n",
    "\n",
    "\n",
    "LSTM_model.compile(loss='categorical_crossentropy',\n",
    "              optimizer='adam',metrics=['categorical_accuracy'])\n",
    "             \n",
    "print('Train...')\n",
    "LSTM_model.fit(X_train, Y_train, batch_size=32, epochs=3)\n",
    "score, acc = LSTM_model.evaluate(X_test, Y_test,\n",
    "                            batch_size=32)\n",
    "print('Test score:', score)\n",
    "print('Test accuracy:', acc)"
   ]
  },
  {
   "cell_type": "markdown",
   "metadata": {},
   "source": [
    "# Fit by Convolutional Neural Network<a name = \"CNN\"></a>\n",
    "\n",
    "[Back to Top](#backtotop)"
   ]
  },
  {
   "cell_type": "code",
   "execution_count": 53,
   "metadata": {},
   "outputs": [
    {
     "name": "stdout",
     "output_type": "stream",
     "text": [
      "Epoch 1/10\n",
      "1610/1610 [==============================] - 7s 4ms/sample - loss: 0.6917 - categorical_accuracy: 0.5298\n",
      "Epoch 2/10\n",
      "1610/1610 [==============================] - 7s 4ms/sample - loss: 0.5495 - categorical_accuracy: 0.8522\n",
      "Epoch 3/10\n",
      "1610/1610 [==============================] - 7s 5ms/sample - loss: 0.1077 - categorical_accuracy: 1.0000\n",
      "Epoch 4/10\n",
      "1610/1610 [==============================] - 7s 4ms/sample - loss: 0.0041 - categorical_accuracy: 1.0000\n",
      "Epoch 5/10\n",
      "1610/1610 [==============================] - 7s 4ms/sample - loss: 0.0017 - categorical_accuracy: 1.0000\n",
      "Epoch 6/10\n",
      "1610/1610 [==============================] - 7s 4ms/sample - loss: 0.0011 - categorical_accuracy: 1.0000\n",
      "Epoch 7/10\n",
      "1610/1610 [==============================] - 7s 4ms/sample - loss: 7.8922e-04 - categorical_accuracy: 1.0000\n",
      "Epoch 8/10\n",
      "1610/1610 [==============================] - 7s 4ms/sample - loss: 4.8278e-04 - categorical_accuracy: 1.0000\n",
      "Epoch 9/10\n",
      "1610/1610 [==============================] - 7s 4ms/sample - loss: 3.4047e-04 - categorical_accuracy: 1.0000\n",
      "Epoch 10/10\n",
      "1610/1610 [==============================] - 7s 4ms/sample - loss: 2.5845e-04 - categorical_accuracy: 1.0000\n"
     ]
    },
    {
     "data": {
      "text/plain": [
       "<tensorflow.python.keras.callbacks.History at 0x1a5a7643c8>"
      ]
     },
     "execution_count": 53,
     "metadata": {},
     "output_type": "execute_result"
    }
   ],
   "source": [
    "from keras import backend as K\n",
    "\n",
    "num_filters = 168\n",
    "CNN_model = tf.keras.models.Sequential()\n",
    "CNN_model.add(tf.keras.layers.Embedding(input_dim = max_features, output_dim = 200))\n",
    "CNN_model.add(tf.keras.layers.Convolution1D(filters = num_filters, kernel_size = 20, activation = 'relu'))\n",
    "def Max1D(X):\n",
    "    return K.max(X, axis = 1)\n",
    "CNN_model.add(tf.keras.layers.Lambda(Max1D, output_shape = (num_filters, )))\n",
    "CNN_model.add(tf.keras.layers.Dense(120, activation = 'relu'))\n",
    "CNN_model.add(tf.keras.layers.Dropout(0.2))\n",
    "CNN_model.add(tf.keras.layers.Dense(2, activation = 'softmax'))\n",
    "\n",
    "CNN_model.compile(loss='categorical_crossentropy',\n",
    "              optimizer='adam',metrics=['categorical_accuracy'])\n",
    "CNN_model.fit(X_train, Y_train, batch_size=32, epochs=10)"
   ]
  },
  {
   "cell_type": "code",
   "execution_count": 54,
   "metadata": {},
   "outputs": [
    {
     "name": "stdout",
     "output_type": "stream",
     "text": [
      "379/379 [==============================] - 1s 2ms/sample - loss: 0.7241 - categorical_accuracy: 0.5435\n",
      "Test score: 0.724146212311093\n",
      "Test accuracy: 0.54353565\n"
     ]
    }
   ],
   "source": [
    "score, acc = CNN_model.evaluate(X_test, Y_test,\n",
    "                            batch_size=32)\n",
    "print('Test score:', score)\n",
    "print('Test accuracy:', acc)"
   ]
  }
 ],
 "metadata": {
  "kernelspec": {
   "display_name": "Python 3",
   "language": "python",
   "name": "python3"
  },
  "language_info": {
   "codemirror_mode": {
    "name": "ipython",
    "version": 3
   },
   "file_extension": ".py",
   "mimetype": "text/x-python",
   "name": "python",
   "nbconvert_exporter": "python",
   "pygments_lexer": "ipython3",
   "version": "3.7.3"
  }
 },
 "nbformat": 4,
 "nbformat_minor": 2
}
